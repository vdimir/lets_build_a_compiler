{
 "cells": [
  {
   "cell_type": "markdown",
   "metadata": {},
   "source": [
    "#### ???\n",
    "* Что такое синтаксическое дерево\n",
    "* Почему регулярные выражения так называются\n",
    "* Чем компилятор отличается от интерперетора"
   ]
  },
  {
   "cell_type": "code",
   "execution_count": 1,
   "metadata": {},
   "outputs": [],
   "source": [
    "from datetime import datetime\n",
    "start_time = datetime.now()\n",
    "def time_elapsed():\n",
    "    global start_time\n",
    "    print(datetime.now() - start_time)"
   ]
  },
  {
   "cell_type": "markdown",
   "metadata": {},
   "source": [
    "#### Что мы будем использовать?\n",
    "\n",
    "Python и его библиотеки\n",
    "* https://docs.python.org/3/library/dis.html\n",
    "* https://docs.python.org/3/library/ast.html\n",
    "* https://greentreesnakes.readthedocs.io/en/latest\n",
    "\n",
    "\n",
    "* [lark-parser](https://github.com/lark-parser/lark) - библиотека для построения парсера по спецецификации\n",
    "* [astpretty](https://github.com/asottile/astpretty) - вывод ast на экран\n",
    "\n",
    "\n",
    "* Утилиты:\n",
    "* [funcy](https://github.com/Suor/funcy)\n",
    "* [more-itertools](https://github.com/more-itertools/more-itertools)\n",
    "\n",
    "*Отступление*\n",
    "* [facesofopensource.com](https://www.facesofopensource.com/guido-van-rossum-2/)\n"
   ]
  },
  {
   "cell_type": "markdown",
   "metadata": {},
   "source": [
    "#### Нужно ли это разработчикам?\n",
    "???"
   ]
  },
  {
   "cell_type": "markdown",
   "metadata": {},
   "source": [
    "domain specific language"
   ]
  },
  {
   "cell_type": "markdown",
   "metadata": {},
   "source": [
    "### Определения\n",
    "\n",
    "[Язык программирования](https://ru.wikipedia.org/wiki/%D0%AF%D0%B7%D1%8B%D0%BA_%D0%BF%D1%80%D0%BE%D0%B3%D1%80%D0%B0%D0%BC%D0%BC%D0%B8%D1%80%D0%BE%D0%B2%D0%B0%D0%BD%D0%B8%D1%8F) -  формальный язык, предназначенный для записи компьютерных программ с набором набор лексических, синтаксических и семантических правил.\n",
    "\n",
    "[Формальный язык](https://ru.wikipedia.org/wiki/%D0%A4%D0%BE%D1%80%D0%BC%D0%B0%D0%BB%D1%8C%D0%BD%D1%8B%D0%B9_%D1%8F%D0%B7%D1%8B%D0%BA) - множество слов (цепочек символов) над конечным алфавитом, определенных посредсвом некторых правил\n"
   ]
  },
  {
   "cell_type": "markdown",
   "metadata": {},
   "source": [
    "{0..9}\n",
    "\n",
    "12389483\n",
    "\n",
    "1347324987\n",
    "\n",
    "1343\n",
    "\n",
    "265756"
   ]
  },
  {
   "cell_type": "markdown",
   "metadata": {},
   "source": [
    "\n",
    "### [Иерархия классов](https://en.wikipedia.org/wiki/Chomsky_hierarchy)\n",
    "![Chomsky-hierarchy](assets/640px-Chomsky-hierarchy.svg.png)"
   ]
  },
  {
   "cell_type": "markdown",
   "metadata": {},
   "source": [
    "### Процесс компиляции\n",
    "\n",
    "![flow](assets/parser_flow.diag.svg)\n",
    "\n"
   ]
  },
  {
   "cell_type": "markdown",
   "metadata": {},
   "source": [
    "### Токенизация"
   ]
  },
  {
   "cell_type": "code",
   "execution_count": 2,
   "metadata": {},
   "outputs": [],
   "source": [
    "from io import BytesIO\n",
    "import tokenize"
   ]
  },
  {
   "cell_type": "code",
   "execution_count": 3,
   "metadata": {},
   "outputs": [],
   "source": [
    "tokenize.tokenize?"
   ]
  },
  {
   "cell_type": "code",
   "execution_count": 7,
   "metadata": {},
   "outputs": [
    {
     "data": {
      "text/plain": [
       "['1323', 'ksjjdfkjsjdh', 'hkdsfjhs']"
      ]
     },
     "execution_count": 7,
     "metadata": {},
     "output_type": "execute_result"
    }
   ],
   "source": [
    "'1323   ksjjdfkjsjdh hkdsfjhs'.split()"
   ]
  },
  {
   "cell_type": "code",
   "execution_count": 6,
   "metadata": {},
   "outputs": [
    {
     "name": "stdout",
     "output_type": "stream",
     "text": [
      "TokenInfo(type=62 (ENCODING), string='utf-8', start=(0, 0), end=(0, 0), line='')\n",
      "TokenInfo(type=61 (NL), string='\\n', start=(1, 0), end=(1, 1), line='\\n')\n",
      "TokenInfo(type=1 (NAME), string='if', start=(2, 0), end=(2, 2), line='if x > y:\\n')\n",
      "TokenInfo(type=1 (NAME), string='x', start=(2, 3), end=(2, 4), line='if x > y:\\n')\n",
      "TokenInfo(type=54 (OP), string='>', start=(2, 5), end=(2, 6), line='if x > y:\\n')\n",
      "TokenInfo(type=1 (NAME), string='y', start=(2, 7), end=(2, 8), line='if x > y:\\n')\n",
      "TokenInfo(type=54 (OP), string=':', start=(2, 8), end=(2, 9), line='if x > y:\\n')\n",
      "TokenInfo(type=4 (NEWLINE), string='\\n', start=(2, 9), end=(2, 10), line='if x > y:\\n')\n",
      "TokenInfo(type=5 (INDENT), string='  ', start=(3, 0), end=(3, 2), line='  r = x   -   y * 2\\n')\n",
      "TokenInfo(type=1 (NAME), string='r', start=(3, 2), end=(3, 3), line='  r = x   -   y * 2\\n')\n",
      "TokenInfo(type=54 (OP), string='=', start=(3, 4), end=(3, 5), line='  r = x   -   y * 2\\n')\n",
      "TokenInfo(type=1 (NAME), string='x', start=(3, 6), end=(3, 7), line='  r = x   -   y * 2\\n')\n",
      "TokenInfo(type=54 (OP), string='-', start=(3, 10), end=(3, 11), line='  r = x   -   y * 2\\n')\n",
      "TokenInfo(type=1 (NAME), string='y', start=(3, 14), end=(3, 15), line='  r = x   -   y * 2\\n')\n",
      "TokenInfo(type=54 (OP), string='*', start=(3, 16), end=(3, 17), line='  r = x   -   y * 2\\n')\n",
      "TokenInfo(type=2 (NUMBER), string='2', start=(3, 18), end=(3, 19), line='  r = x   -   y * 2\\n')\n",
      "TokenInfo(type=4 (NEWLINE), string='\\n', start=(3, 19), end=(3, 20), line='  r = x   -   y * 2\\n')\n",
      "TokenInfo(type=61 (NL), string='\\n', start=(4, 2), end=(4, 3), line='  \\n')\n",
      "TokenInfo(type=6 (DEDENT), string='', start=(5, 0), end=(5, 0), line='else:\\n')\n",
      "TokenInfo(type=1 (NAME), string='else', start=(5, 0), end=(5, 4), line='else:\\n')\n",
      "TokenInfo(type=54 (OP), string=':', start=(5, 4), end=(5, 5), line='else:\\n')\n",
      "TokenInfo(type=4 (NEWLINE), string='\\n', start=(5, 5), end=(5, 6), line='else:\\n')\n",
      "TokenInfo(type=5 (INDENT), string='  ', start=(6, 0), end=(6, 2), line='  r = xxx + y\\n')\n",
      "TokenInfo(type=1 (NAME), string='r', start=(6, 2), end=(6, 3), line='  r = xxx + y\\n')\n",
      "TokenInfo(type=54 (OP), string='=', start=(6, 4), end=(6, 5), line='  r = xxx + y\\n')\n",
      "TokenInfo(type=1 (NAME), string='xxx', start=(6, 6), end=(6, 9), line='  r = xxx + y\\n')\n",
      "TokenInfo(type=54 (OP), string='+', start=(6, 10), end=(6, 11), line='  r = xxx + y\\n')\n",
      "TokenInfo(type=1 (NAME), string='y', start=(6, 12), end=(6, 13), line='  r = xxx + y\\n')\n",
      "TokenInfo(type=4 (NEWLINE), string='\\n', start=(6, 13), end=(6, 14), line='  r = xxx + y\\n')\n",
      "TokenInfo(type=6 (DEDENT), string='', start=(7, 0), end=(7, 0), line='')\n",
      "TokenInfo(type=0 (ENDMARKER), string='', start=(7, 0), end=(7, 0), line='')\n"
     ]
    }
   ],
   "source": [
    "data = BytesIO(b\"\"\"\n",
    "if x > y:\n",
    "  r = x   -   y * 2\n",
    "  \n",
    "else:\n",
    "  r = xxx + y\n",
    "\"\"\").readline\n",
    "\n",
    "for tok in tokenize.tokenize(data):\n",
    "    print(tok)"
   ]
  },
  {
   "cell_type": "markdown",
   "metadata": {},
   "source": []
  },
  {
   "cell_type": "markdown",
   "metadata": {},
   "source": [
    "#### Что такое AST?\n",
    "\n",
    "`1 + 2 * 3`\n",
    "\n",
    "```\n",
    "     +\n",
    "    / \\\n",
    "   1   *\n",
    "      / \\\n",
    "     2   3\n",
    "```\n",
    "\n",
    "```\n",
    "EXPR -> NUM | EXPR + EXPR | EXPR * EXPR\n",
    "NUM -> 0|1|2|...|9\n",
    "```\n"
   ]
  },
  {
   "cell_type": "markdown",
   "metadata": {},
   "source": [
    "#### AST vs Parse Tree\n",
    "*опционально*"
   ]
  },
  {
   "cell_type": "code",
   "execution_count": 8,
   "metadata": {},
   "outputs": [],
   "source": [
    "import ast\n",
    "import astpretty"
   ]
  },
  {
   "cell_type": "markdown",
   "metadata": {},
   "source": [
    "* https://docs.python.org/3/library/ast.html\n",
    "* https://greentreesnakes.readthedocs.io/en/latest"
   ]
  },
  {
   "cell_type": "code",
   "execution_count": 28,
   "metadata": {},
   "outputs": [],
   "source": [
    "ast.parse?"
   ]
  },
  {
   "cell_type": "code",
   "execution_count": 18,
   "metadata": {
    "scrolled": true
   },
   "outputs": [
    {
     "name": "stdout",
     "output_type": "stream",
     "text": [
      "<_ast.Module object at 0x7fb3ff209790>\n"
     ]
    }
   ],
   "source": [
    "node = ast.parse(\"\"\"\n",
    "if x > y:\n",
    "  r = x - y * 2\n",
    "  x =1\n",
    "else:\n",
    "  r = x + y\n",
    "x = 1\n",
    "\"\"\")\n",
    "print(node)"
   ]
  },
  {
   "cell_type": "code",
   "execution_count": 19,
   "metadata": {},
   "outputs": [],
   "source": [
    "# TODO: work with `node`"
   ]
  },
  {
   "cell_type": "code",
   "execution_count": 25,
   "metadata": {},
   "outputs": [
    {
     "data": {
      "text/plain": [
       "<_ast.Sub at 0x7fb41ab5b130>"
      ]
     },
     "execution_count": 25,
     "metadata": {},
     "output_type": "execute_result"
    }
   ],
   "source": [
    "node.body[0].body[0].value.op"
   ]
  },
  {
   "cell_type": "code",
   "execution_count": 26,
   "metadata": {},
   "outputs": [
    {
     "name": "stdout",
     "output_type": "stream",
     "text": [
      "Module(\n",
      "    body=[\n",
      "        If(\n",
      "            lineno=2,\n",
      "            col_offset=0,\n",
      "            end_lineno=6,\n",
      "            end_col_offset=11,\n",
      "            test=Compare(\n",
      "                lineno=2,\n",
      "                col_offset=3,\n",
      "                end_lineno=2,\n",
      "                end_col_offset=8,\n",
      "                left=Name(lineno=2, col_offset=3, end_lineno=2, end_col_offset=4, id='x', ctx=Load()),\n",
      "                ops=[Gt()],\n",
      "                comparators=[Name(lineno=2, col_offset=7, end_lineno=2, end_col_offset=8, id='y', ctx=Load())],\n",
      "            ),\n",
      "            body=[\n",
      "                Assign(\n",
      "                    lineno=3,\n",
      "                    col_offset=2,\n",
      "                    end_lineno=3,\n",
      "                    end_col_offset=15,\n",
      "                    targets=[Name(lineno=3, col_offset=2, end_lineno=3, end_col_offset=3, id='r', ctx=Store())],\n",
      "                    value=BinOp(\n",
      "                        lineno=3,\n",
      "                        col_offset=6,\n",
      "                        end_lineno=3,\n",
      "                        end_col_offset=15,\n",
      "                        left=Name(lineno=3, col_offset=6, end_lineno=3, end_col_offset=7, id='x', ctx=Load()),\n",
      "                        op=Sub(),\n",
      "                        right=BinOp(\n",
      "                            lineno=3,\n",
      "                            col_offset=10,\n",
      "                            end_lineno=3,\n",
      "                            end_col_offset=15,\n",
      "                            left=Name(lineno=3, col_offset=10, end_lineno=3, end_col_offset=11, id='y', ctx=Load()),\n",
      "                            op=Mult(),\n",
      "                            right=Constant(lineno=3, col_offset=14, end_lineno=3, end_col_offset=15, value=2, kind=None),\n",
      "                        ),\n",
      "                    ),\n",
      "                    type_comment=None,\n",
      "                ),\n",
      "                Assign(\n",
      "                    lineno=4,\n",
      "                    col_offset=2,\n",
      "                    end_lineno=4,\n",
      "                    end_col_offset=6,\n",
      "                    targets=[Name(lineno=4, col_offset=2, end_lineno=4, end_col_offset=3, id='x', ctx=Store())],\n",
      "                    value=Constant(lineno=4, col_offset=5, end_lineno=4, end_col_offset=6, value=1, kind=None),\n",
      "                    type_comment=None,\n",
      "                ),\n",
      "            ],\n",
      "            orelse=[\n",
      "                Assign(\n",
      "                    lineno=6,\n",
      "                    col_offset=2,\n",
      "                    end_lineno=6,\n",
      "                    end_col_offset=11,\n",
      "                    targets=[Name(lineno=6, col_offset=2, end_lineno=6, end_col_offset=3, id='r', ctx=Store())],\n",
      "                    value=BinOp(\n",
      "                        lineno=6,\n",
      "                        col_offset=6,\n",
      "                        end_lineno=6,\n",
      "                        end_col_offset=11,\n",
      "                        left=Name(lineno=6, col_offset=6, end_lineno=6, end_col_offset=7, id='x', ctx=Load()),\n",
      "                        op=Add(),\n",
      "                        right=Name(lineno=6, col_offset=10, end_lineno=6, end_col_offset=11, id='y', ctx=Load()),\n",
      "                    ),\n",
      "                    type_comment=None,\n",
      "                ),\n",
      "            ],\n",
      "        ),\n",
      "        Assign(\n",
      "            lineno=7,\n",
      "            col_offset=0,\n",
      "            end_lineno=7,\n",
      "            end_col_offset=5,\n",
      "            targets=[Name(lineno=7, col_offset=0, end_lineno=7, end_col_offset=1, id='x', ctx=Store())],\n",
      "            value=Constant(lineno=7, col_offset=4, end_lineno=7, end_col_offset=5, value=1, kind=None),\n",
      "            type_comment=None,\n",
      "        ),\n",
      "    ],\n",
      "    type_ignores=[],\n",
      ")\n"
     ]
    }
   ],
   "source": [
    "astpretty.pprint(node)"
   ]
  },
  {
   "cell_type": "code",
   "execution_count": null,
   "metadata": {},
   "outputs": [],
   "source": []
  },
  {
   "cell_type": "code",
   "execution_count": 27,
   "metadata": {},
   "outputs": [
    {
     "name": "stdout",
     "output_type": "stream",
     "text": [
      "0:22:54.515771\n"
     ]
    }
   ],
   "source": [
    "time_elapsed()"
   ]
  },
  {
   "cell_type": "markdown",
   "metadata": {},
   "source": [
    "#### Пробуем написать свой парсер"
   ]
  },
  {
   "cell_type": "code",
   "execution_count": 29,
   "metadata": {},
   "outputs": [],
   "source": [
    "import more_itertools\n",
    "from pprint import pprint"
   ]
  },
  {
   "cell_type": "code",
   "execution_count": 30,
   "metadata": {},
   "outputs": [],
   "source": [
    "# LL(*) -- top-down\n",
    "# LR -- bottom-up "
   ]
  },
  {
   "cell_type": "code",
   "execution_count": 31,
   "metadata": {},
   "outputs": [
    {
     "name": "stdout",
     "output_type": "stream",
     "text": [
      "['1', '+', '2', '+', '3', '+', '4']\n"
     ]
    }
   ],
   "source": [
    "print(tokens := '1 + 2 + 3 + 4'.split())\n",
    "stream = more_itertools.peekable(tokens)"
   ]
  },
  {
   "cell_type": "code",
   "execution_count": 33,
   "metadata": {},
   "outputs": [
    {
     "name": "stdout",
     "output_type": "stream",
     "text": [
      "peek +\n",
      "next +\n",
      "peek 3\n",
      "peek 3\n",
      "next 3\n",
      "next +\n"
     ]
    }
   ],
   "source": [
    "print('peek', stream.peek())\n",
    "print('next', next(stream))\n",
    "print('peek', stream.peek())\n",
    "print('peek', stream.peek())\n",
    "print('next', next(stream))\n",
    "print('next', next(stream))"
   ]
  },
  {
   "cell_type": "code",
   "execution_count": 34,
   "metadata": {},
   "outputs": [],
   "source": [
    "def mynode(typ, val):\n",
    "    assert val is not None\n",
    "    return {\n",
    "        'typ': typ,\n",
    "        'val': val,\n",
    "    }"
   ]
  },
  {
   "cell_type": "markdown",
   "metadata": {},
   "source": [
    "####  Определим грамматику\n",
    "```\n",
    "EXPR ->  NUM [+-] EXPR | NUM\n",
    "NUM -> 0|1|2|3|..|0\n",
    "```"
   ]
  },
  {
   "cell_type": "code",
   "execution_count": 35,
   "metadata": {},
   "outputs": [],
   "source": [
    "def consume_int(stream):\n",
    "    if stream.peek('').isdigit():\n",
    "        return int(next(stream))\n",
    "    return None\n",
    "\n",
    "def consume_tok(tokens, stream):\n",
    "    tok = stream.peek(None)\n",
    "    if tok is not None and tok in tokens:\n",
    "        return next(stream)\n",
    "    return None\n",
    "\n",
    "def parse_expr(stream):\n",
    "    lhs = mynode('num', consume_int(stream))\n",
    "\n",
    "    op = consume_tok(['+', '-'], stream)\n",
    "    if op is None:\n",
    "        return lhs\n",
    "    rhs = parse_expr(stream)\n",
    "    assert rhs is not None\n",
    "    return mynode('op', [lhs, op, rhs])"
   ]
  },
  {
   "cell_type": "code",
   "execution_count": 36,
   "metadata": {},
   "outputs": [
    {
     "name": "stdout",
     "output_type": "stream",
     "text": [
      "{'typ': 'op',\n",
      " 'val': [{'typ': 'num', 'val': 1},\n",
      "         '+',\n",
      "         {'typ': 'op',\n",
      "          'val': [{'typ': 'num', 'val': 2},\n",
      "                  '+',\n",
      "                  {'typ': 'op',\n",
      "                   'val': [{'typ': 'num', 'val': 3},\n",
      "                           '+',\n",
      "                           {'typ': 'num', 'val': 4}]}]}]}\n"
     ]
    }
   ],
   "source": [
    "node = parse_expr(more_itertools.peekable('1 + 2 + 3 + 4'.split()))\n",
    "pprint(node)"
   ]
  },
  {
   "cell_type": "code",
   "execution_count": 37,
   "metadata": {},
   "outputs": [],
   "source": [
    "def evaluate(node):\n",
    "    ops = {\n",
    "        '+': lambda x, y: x + y,\n",
    "        '-': lambda x, y: x - y,\n",
    "    }\n",
    "    if node['typ'] == 'op':\n",
    "        lchild, op, rchild =  node['val']\n",
    "        return ops[op](evaluate(lchild), evaluate(rchild))\n",
    "    if node['typ'] == 'num':\n",
    "        return node['val']\n",
    "    assert 'unknown type', node\n"
   ]
  },
  {
   "cell_type": "code",
   "execution_count": 38,
   "metadata": {},
   "outputs": [
    {
     "data": {
      "text/plain": [
       "10"
      ]
     },
     "execution_count": 38,
     "metadata": {},
     "output_type": "execute_result"
    }
   ],
   "source": [
    "evaluate(node)"
   ]
  },
  {
   "cell_type": "code",
   "execution_count": 39,
   "metadata": {},
   "outputs": [
    {
     "name": "stdout",
     "output_type": "stream",
     "text": [
      "{'typ': 'op',\n",
      " 'val': [{'typ': 'num', 'val': 1},\n",
      "         '+',\n",
      "         {'typ': 'op',\n",
      "          'val': [{'typ': 'num', 'val': 2},\n",
      "                  '-',\n",
      "                  {'typ': 'op',\n",
      "                   'val': [{'typ': 'num', 'val': 3},\n",
      "                           '+',\n",
      "                           {'typ': 'num', 'val': 4}]}]}]}\n"
     ]
    }
   ],
   "source": [
    "node = parse_expr(more_itertools.peekable('1 + 2 - 3 + 4'.split()))\n",
    "pprint(node)"
   ]
  },
  {
   "cell_type": "code",
   "execution_count": null,
   "metadata": {},
   "outputs": [],
   "source": [
    "1 + (2 - (3 + 4))"
   ]
  },
  {
   "cell_type": "markdown",
   "metadata": {},
   "source": [
    "#### Что выведет `evaluate` ?\n",
    "```\n",
    "  +\n",
    " / \\\n",
    "1   -\n",
    "   / \\\n",
    "  2   +\n",
    "     / \\\n",
    "    3   4\n",
    "```"
   ]
  },
  {
   "cell_type": "code",
   "execution_count": 41,
   "metadata": {},
   "outputs": [
    {
     "data": {
      "text/plain": [
       "-4"
      ]
     },
     "execution_count": 41,
     "metadata": {},
     "output_type": "execute_result"
    }
   ],
   "source": [
    "evaluate(node)"
   ]
  },
  {
   "cell_type": "markdown",
   "metadata": {},
   "source": [
    "#### Грамматика версия 2\n",
    "```\n",
    "EXPR -> NUM | EXPR OP NUM\n",
    "NUM -> 0..9\n",
    "```"
   ]
  },
  {
   "cell_type": "code",
   "execution_count": 42,
   "metadata": {},
   "outputs": [],
   "source": [
    "def parse_expr2(stream):\n",
    "    lhs = parse_expr2(stream)\n",
    "    \n",
    "    op = consume_tok(['+', '-'], stream)\n",
    "    if op is None:\n",
    "        return lhs\n",
    "    rhs = mynode('num', consume_int(stream))\n",
    "    assert rhs is not None\n",
    "    return mynode('op', [lhs, op, rhs])"
   ]
  },
  {
   "cell_type": "markdown",
   "metadata": {},
   "source": [
    "#### DO NOT RUN !!!"
   ]
  },
  {
   "cell_type": "code",
   "execution_count": 43,
   "metadata": {},
   "outputs": [
    {
     "ename": "RecursionError",
     "evalue": "maximum recursion depth exceeded",
     "output_type": "error",
     "traceback": [
      "\u001b[0;31m\u001b[0m",
      "\u001b[0;31mRecursionError\u001b[0mTraceback (most recent call last)",
      "\u001b[0;32m<ipython-input-43-e0a7242ecca6>\u001b[0m in \u001b[0;36m<module>\u001b[0;34m\u001b[0m\n\u001b[0;32m----> 1\u001b[0;31m \u001b[0mnode\u001b[0m \u001b[0;34m=\u001b[0m \u001b[0mparse_expr2\u001b[0m\u001b[0;34m(\u001b[0m\u001b[0mmore_itertools\u001b[0m\u001b[0;34m.\u001b[0m\u001b[0mpeekable\u001b[0m\u001b[0;34m(\u001b[0m\u001b[0;34m'1 + 2 - 3 + 4'\u001b[0m\u001b[0;34m.\u001b[0m\u001b[0msplit\u001b[0m\u001b[0;34m(\u001b[0m\u001b[0;34m)\u001b[0m\u001b[0;34m)\u001b[0m\u001b[0;34m)\u001b[0m\u001b[0;34m\u001b[0m\u001b[0;34m\u001b[0m\u001b[0m\n\u001b[0m\u001b[1;32m      2\u001b[0m \u001b[0mpprint\u001b[0m\u001b[0;34m(\u001b[0m\u001b[0mnode\u001b[0m\u001b[0;34m)\u001b[0m\u001b[0;34m\u001b[0m\u001b[0;34m\u001b[0m\u001b[0m\n",
      "\u001b[0;32m<ipython-input-42-e5700c7e07e4>\u001b[0m in \u001b[0;36mparse_expr2\u001b[0;34m(stream)\u001b[0m\n\u001b[1;32m      1\u001b[0m \u001b[0;32mdef\u001b[0m \u001b[0mparse_expr2\u001b[0m\u001b[0;34m(\u001b[0m\u001b[0mstream\u001b[0m\u001b[0;34m)\u001b[0m\u001b[0;34m:\u001b[0m\u001b[0;34m\u001b[0m\u001b[0;34m\u001b[0m\u001b[0m\n\u001b[0;32m----> 2\u001b[0;31m     \u001b[0mlhs\u001b[0m \u001b[0;34m=\u001b[0m \u001b[0mparse_expr2\u001b[0m\u001b[0;34m(\u001b[0m\u001b[0mstream\u001b[0m\u001b[0;34m)\u001b[0m\u001b[0;34m\u001b[0m\u001b[0;34m\u001b[0m\u001b[0m\n\u001b[0m\u001b[1;32m      3\u001b[0m \u001b[0;34m\u001b[0m\u001b[0m\n\u001b[1;32m      4\u001b[0m     \u001b[0mop\u001b[0m \u001b[0;34m=\u001b[0m \u001b[0mconsume_tok\u001b[0m\u001b[0;34m(\u001b[0m\u001b[0;34m[\u001b[0m\u001b[0;34m'+'\u001b[0m\u001b[0;34m,\u001b[0m \u001b[0;34m'-'\u001b[0m\u001b[0;34m]\u001b[0m\u001b[0;34m,\u001b[0m \u001b[0mstream\u001b[0m\u001b[0;34m)\u001b[0m\u001b[0;34m\u001b[0m\u001b[0;34m\u001b[0m\u001b[0m\n\u001b[1;32m      5\u001b[0m     \u001b[0;32mif\u001b[0m \u001b[0mop\u001b[0m \u001b[0;32mis\u001b[0m \u001b[0;32mNone\u001b[0m\u001b[0;34m:\u001b[0m\u001b[0;34m\u001b[0m\u001b[0;34m\u001b[0m\u001b[0m\n",
      "... last 1 frames repeated, from the frame below ...\n",
      "\u001b[0;32m<ipython-input-42-e5700c7e07e4>\u001b[0m in \u001b[0;36mparse_expr2\u001b[0;34m(stream)\u001b[0m\n\u001b[1;32m      1\u001b[0m \u001b[0;32mdef\u001b[0m \u001b[0mparse_expr2\u001b[0m\u001b[0;34m(\u001b[0m\u001b[0mstream\u001b[0m\u001b[0;34m)\u001b[0m\u001b[0;34m:\u001b[0m\u001b[0;34m\u001b[0m\u001b[0;34m\u001b[0m\u001b[0m\n\u001b[0;32m----> 2\u001b[0;31m     \u001b[0mlhs\u001b[0m \u001b[0;34m=\u001b[0m \u001b[0mparse_expr2\u001b[0m\u001b[0;34m(\u001b[0m\u001b[0mstream\u001b[0m\u001b[0;34m)\u001b[0m\u001b[0;34m\u001b[0m\u001b[0;34m\u001b[0m\u001b[0m\n\u001b[0m\u001b[1;32m      3\u001b[0m \u001b[0;34m\u001b[0m\u001b[0m\n\u001b[1;32m      4\u001b[0m     \u001b[0mop\u001b[0m \u001b[0;34m=\u001b[0m \u001b[0mconsume_tok\u001b[0m\u001b[0;34m(\u001b[0m\u001b[0;34m[\u001b[0m\u001b[0;34m'+'\u001b[0m\u001b[0;34m,\u001b[0m \u001b[0;34m'-'\u001b[0m\u001b[0;34m]\u001b[0m\u001b[0;34m,\u001b[0m \u001b[0mstream\u001b[0m\u001b[0;34m)\u001b[0m\u001b[0;34m\u001b[0m\u001b[0;34m\u001b[0m\u001b[0m\n\u001b[1;32m      5\u001b[0m     \u001b[0;32mif\u001b[0m \u001b[0mop\u001b[0m \u001b[0;32mis\u001b[0m \u001b[0;32mNone\u001b[0m\u001b[0;34m:\u001b[0m\u001b[0;34m\u001b[0m\u001b[0;34m\u001b[0m\u001b[0m\n",
      "\u001b[0;31mRecursionError\u001b[0m: maximum recursion depth exceeded"
     ]
    }
   ],
   "source": [
    "node = parse_expr2(more_itertools.peekable('1 + 2 - 3 + 4'.split()))\n",
    "pprint(node)"
   ]
  },
  {
   "cell_type": "markdown",
   "metadata": {},
   "source": [
    "#### Грамматика версия 3 \n",
    "```\n",
    "EXPR -> NUM {[+-] NUM}+\n",
    "NUM -> 0..9\n",
    "```"
   ]
  },
  {
   "cell_type": "code",
   "execution_count": 44,
   "metadata": {},
   "outputs": [],
   "source": [
    "def parse_expr3(stream):\n",
    "    lhs = mynode('num', consume_int(stream))\n",
    "        \n",
    "    assert lhs is not None\n",
    "    res = lhs\n",
    "    \n",
    "    while True:\n",
    "        op = consume_tok(['+', '-'], stream)\n",
    "        if op is None:\n",
    "            break\n",
    "\n",
    "        rhs = mynode('num', consume_int(stream))\n",
    "        assert rhs is not None\n",
    "        \n",
    "        res = mynode('op', [res, op, rhs])\n",
    "    return res\n"
   ]
  },
  {
   "cell_type": "code",
   "execution_count": 45,
   "metadata": {},
   "outputs": [
    {
     "name": "stdout",
     "output_type": "stream",
     "text": [
      "{'typ': 'op',\n",
      " 'val': [{'typ': 'op',\n",
      "          'val': [{'typ': 'op',\n",
      "                   'val': [{'typ': 'num', 'val': 1},\n",
      "                           '+',\n",
      "                           {'typ': 'num', 'val': 2}]},\n",
      "                  '-',\n",
      "                  {'typ': 'num', 'val': 3}]},\n",
      "         '+',\n",
      "         {'typ': 'num', 'val': 4}]}\n"
     ]
    }
   ],
   "source": [
    "node = parse_expr3(more_itertools.peekable('1 + 2 - 3 + 4'.split()))\n",
    "pprint(node)"
   ]
  },
  {
   "cell_type": "markdown",
   "metadata": {},
   "source": [
    "#### Результат\n",
    "```\n",
    "        + \n",
    "       / \\\n",
    "      -   4\n",
    "     / \\\n",
    "    +   3\n",
    "   / \\ \n",
    "  1   2 \n",
    " \n",
    "```"
   ]
  },
  {
   "cell_type": "code",
   "execution_count": 46,
   "metadata": {},
   "outputs": [
    {
     "data": {
      "text/plain": [
       "4"
      ]
     },
     "execution_count": 46,
     "metadata": {},
     "output_type": "execute_result"
    }
   ],
   "source": [
    "evaluate(node)"
   ]
  },
  {
   "cell_type": "code",
   "execution_count": 47,
   "metadata": {},
   "outputs": [
    {
     "name": "stdout",
     "output_type": "stream",
     "text": [
      "0:42:55.563700\n"
     ]
    }
   ],
   "source": [
    "time_elapsed()"
   ]
  },
  {
   "cell_type": "markdown",
   "metadata": {},
   "source": [
    "### Что делать с AST?\n",
    "\n",
    "* https://docs.python.org/3/library/dis.html\n",
    "* [Understanding Python Bytecode](https://towardsdatascience.com/understanding-python-bytecode-e7edaae8734d)\n",
    "* [How to patch Python bytecode](https://rushter.com/blog/python-bytecode-patch/)"
   ]
  },
  {
   "cell_type": "code",
   "execution_count": 48,
   "metadata": {},
   "outputs": [],
   "source": [
    "import dis"
   ]
  },
  {
   "cell_type": "code",
   "execution_count": 49,
   "metadata": {},
   "outputs": [],
   "source": [
    "compile?"
   ]
  },
  {
   "cell_type": "code",
   "execution_count": 50,
   "metadata": {},
   "outputs": [],
   "source": [
    "node = ast.parse(\"\"\"\n",
    "x = a + b\n",
    "if x > 0:\n",
    "    print(x)\n",
    "\"\"\")"
   ]
  },
  {
   "cell_type": "code",
   "execution_count": 51,
   "metadata": {},
   "outputs": [],
   "source": [
    "code = compile(node, '<foo>', \"exec\")"
   ]
  },
  {
   "cell_type": "code",
   "execution_count": 52,
   "metadata": {},
   "outputs": [
    {
     "data": {
      "text/plain": [
       "<code object <module> at 0x7fb41ab4d660, file \"<foo>\", line 2>"
      ]
     },
     "execution_count": 52,
     "metadata": {},
     "output_type": "execute_result"
    }
   ],
   "source": [
    "code"
   ]
  },
  {
   "cell_type": "code",
   "execution_count": 53,
   "metadata": {},
   "outputs": [],
   "source": [
    "def pcodeobj(code):\n",
    "    for attr in dir(code):\n",
    "        if attr.startswith('co_'):\n",
    "            print(\"\\t%s = %s\" % (attr, code.__getattribute__(attr)))\n"
   ]
  },
  {
   "cell_type": "code",
   "execution_count": 55,
   "metadata": {},
   "outputs": [
    {
     "name": "stdout",
     "output_type": "stream",
     "text": [
      "\tco_argcount = 0\n",
      "\tco_cellvars = ()\n",
      "\tco_code = b'e\\x00e\\x01\\x17\\x00Z\\x02e\\x02d\\x00k\\x04r\\x18e\\x03e\\x02\\x83\\x01\\x01\\x00d\\x01S\\x00'\n",
      "\tco_consts = (0, None)\n",
      "\tco_filename = <foo>\n",
      "\tco_firstlineno = 2\n",
      "\tco_flags = 64\n",
      "\tco_freevars = ()\n",
      "\tco_kwonlyargcount = 0\n",
      "\tco_lnotab = b'\\x08\\x01\\x08\\x01'\n",
      "\tco_name = <module>\n",
      "\tco_names = ('a', 'b', 'x', 'print')\n",
      "\tco_nlocals = 0\n",
      "\tco_posonlyargcount = 0\n",
      "\tco_stacksize = 2\n",
      "\tco_varnames = ()\n"
     ]
    }
   ],
   "source": [
    "pcodeobj(code)"
   ]
  },
  {
   "cell_type": "code",
   "execution_count": 56,
   "metadata": {},
   "outputs": [
    {
     "name": "stdout",
     "output_type": "stream",
     "text": [
      "  2           0 LOAD_NAME                0 (a)\n",
      "              2 LOAD_NAME                1 (b)\n",
      "              4 BINARY_ADD\n",
      "              6 STORE_NAME               2 (x)\n",
      "\n",
      "  3           8 LOAD_NAME                2 (x)\n",
      "             10 LOAD_CONST               0 (0)\n",
      "             12 COMPARE_OP               4 (>)\n",
      "             14 POP_JUMP_IF_FALSE       24\n",
      "\n",
      "  4          16 LOAD_NAME                3 (print)\n",
      "             18 LOAD_NAME                2 (x)\n",
      "             20 CALL_FUNCTION            1\n",
      "             22 POP_TOP\n",
      "        >>   24 LOAD_CONST               1 (None)\n",
      "             26 RETURN_VALUE\n"
     ]
    }
   ],
   "source": [
    "dis.dis(code)"
   ]
  },
  {
   "cell_type": "markdown",
   "metadata": {},
   "source": [
    "### Почему байткод быстрее AST-интепретации?\n",
    "\n",
    "* простой, меньше накладных расходов в интепретаторе\n",
    "* легче оптимизировать\n",
    "* дружественный к кешу\n",
    "\n",
    "### Ruby 1.8 vs 1.9\n",
    "\n",
    "http://rubychan.de/share/yarv_speedups.html"
   ]
  },
  {
   "cell_type": "markdown",
   "metadata": {},
   "source": [
    "\n",
    "*Отступление*\n",
    "\n",
    "Principle of locality\n"
   ]
  },
  {
   "cell_type": "markdown",
   "metadata": {},
   "source": [
    "### Процесс компиляции (еще раз)\n",
    "\n",
    "![flow](assets/parser_flow.diag.svg)\n",
    "\n"
   ]
  },
  {
   "cell_type": "markdown",
   "metadata": {},
   "source": [
    "### Rust Example\n",
    "https://blog.rust-lang.org/2016/04/19/MIR.html"
   ]
  },
  {
   "cell_type": "code",
   "execution_count": 57,
   "metadata": {},
   "outputs": [
    {
     "name": "stdout",
     "output_type": "stream",
     "text": [
      "0:55:17.501666\n"
     ]
    }
   ],
   "source": [
    "time_elapsed()"
   ]
  },
  {
   "cell_type": "markdown",
   "metadata": {},
   "source": [
    "### Let's Code ..."
   ]
  },
  {
   "cell_type": "code",
   "execution_count": 58,
   "metadata": {},
   "outputs": [],
   "source": [
    "import typing\n",
    "import dis\n",
    "import ast\n",
    "\n",
    "from types import CodeType\n",
    "\n",
    "import struct\n",
    "\n",
    "from io import BytesIO\n",
    "from dataclasses import dataclass\n",
    "from collections import defaultdict\n",
    "\n",
    "from lark import Lark, Transformer, v_args\n",
    "from funcy import collecting"
   ]
  },
  {
   "cell_type": "markdown",
   "metadata": {},
   "source": [
    "https://github.com/lark-parser/lark"
   ]
  },
  {
   "cell_type": "markdown",
   "metadata": {},
   "source": [
    "#### Что напишем?\n",
    "* https://en.wikipedia.org/wiki/Euclidean_algorithm\n",
    "* https://en.wikipedia.org/wiki/Fibonacci_number"
   ]
  },
  {
   "cell_type": "markdown",
   "metadata": {},
   "source": [
    "* Наш язык поддержит целые числа и операции `+ - * /`\n",
    "* Операторы сравнения `<, >, >=, ...`\n",
    "* Условные и безусловные переходы (aka `if goto`)\n",
    "* Ввод-вывод"
   ]
  },
  {
   "cell_type": "code",
   "execution_count": 59,
   "metadata": {},
   "outputs": [],
   "source": [
    "def gdc(a, b):\n",
    "    while a != b:\n",
    "        if a > b:\n",
    "            a -= b\n",
    "        else:\n",
    "            b -= a\n",
    "    return a\n",
    "\n",
    "assert gdc(12, 8) == 4\n",
    "assert gdc(56, 42) == 14\n",
    "assert gdc(1, 10) == 1\n",
    "del gdc"
   ]
  },
  {
   "cell_type": "code",
   "execution_count": 60,
   "metadata": {},
   "outputs": [],
   "source": [
    "def fib(n):\n",
    "    a = 1\n",
    "    b = 1\n",
    "    for _ in range(n):\n",
    "        c = a + b\n",
    "        a = b\n",
    "        b = c\n",
    "    return a \n",
    "\n",
    "assert fib(1) == 1\n",
    "assert fib(2) == 2\n",
    "assert fib(3) == 3\n",
    "assert fib(4) == 5\n",
    "assert fib(5) == 8\n",
    "assert fib(6) == 13\n",
    "del fib"
   ]
  },
  {
   "cell_type": "code",
   "execution_count": null,
   "metadata": {},
   "outputs": [],
   "source": [
    "\n",
    "./foo.mlg"
   ]
  },
  {
   "cell_type": "code",
   "execution_count": 61,
   "metadata": {},
   "outputs": [],
   "source": [
    "text = \"\"\"\n",
    "#!/usr/bin/env my_lang\n",
    "\n",
    "ask n \n",
    "set a to 1\n",
    "set b to 1\n",
    "set i to 1\n",
    "label head\n",
    "    set i to i + 1\n",
    "    set c to a + b\n",
    "    set a to b\n",
    "    set b to c \n",
    "    goto head if i < n\n",
    "    \n",
    "show a\n",
    "\n",
    "\"\"\"\n",
    "\n"
   ]
  },
  {
   "cell_type": "code",
   "execution_count": 63,
   "metadata": {},
   "outputs": [
    {
     "name": "stdout",
     "output_type": "stream",
     "text": [
      "1:11:00.930109\n"
     ]
    }
   ],
   "source": [
    "time_elapsed()"
   ]
  },
  {
   "cell_type": "code",
   "execution_count": 68,
   "metadata": {},
   "outputs": [],
   "source": [
    "grammar = \"\"\"\n",
    "    start: _NL* statement (_NL+ statement )* _NL*\n",
    "    \n",
    "    ?statement: \"ask\" NAME -> ask \n",
    "                | \"set\" NAME \"to\" expr -> assign\n",
    "                | \"label\" NAME -> label\n",
    "                | \"show\" NAME -> show\n",
    "                | \"goto\" NAME \"if\" expr -> goto\n",
    "\n",
    "    ?expr: sum\n",
    "           | sum CMP sum -> binop  \n",
    "    \n",
    "    ?sum: product\n",
    "        | sum ADDOP product -> binop\n",
    "\n",
    "    CMP: \"=\"|\">=\"|\"<=\"|\"/=\"|\">\"|\"<\"\n",
    "    ADDOP: \"+\"|\"-\"\n",
    "    MULOP: \"*\"|\"/\"\n",
    "    \n",
    "    ?product: atom\n",
    "        | product MULOP atom -> binop\n",
    "        \n",
    "    ?atom: NUMBER           -> number\n",
    "         | NAME             -> var\n",
    "         | \"(\" sum \")\"\n",
    "\n",
    "    %import common.CNAME -> NAME\n",
    "    %import common.NEWLINE -> _NL\n",
    "    %import common.NUMBER\n",
    "    %import common.WS_INLINE\n",
    "    %ignore WS_INLINE\n",
    "\"\"\""
   ]
  },
  {
   "cell_type": "markdown",
   "metadata": {},
   "source": [
    "\n"
   ]
  },
  {
   "cell_type": "code",
   "execution_count": null,
   "metadata": {},
   "outputs": [],
   "source": []
  },
  {
   "cell_type": "code",
   "execution_count": 69,
   "metadata": {},
   "outputs": [],
   "source": [
    "parser = Lark(grammar, parser='lalr')"
   ]
  },
  {
   "cell_type": "code",
   "execution_count": 71,
   "metadata": {
    "scrolled": true
   },
   "outputs": [
    {
     "data": {
      "text/plain": [
       "Tree(start, [Tree(ask, [Token(NAME, 'n')]), Tree(assign, [Token(NAME, 'a'), Tree(number, [Token(NUMBER, '1')])]), Tree(assign, [Token(NAME, 'b'), Tree(number, [Token(NUMBER, '1')])]), Tree(assign, [Token(NAME, 'i'), Tree(number, [Token(NUMBER, '1')])]), Tree(label, [Token(NAME, 'head')]), Tree(assign, [Token(NAME, 'i'), Tree(binop, [Tree(var, [Token(NAME, 'i')]), Token(ADDOP, '+'), Tree(number, [Token(NUMBER, '1')])])]), Tree(assign, [Token(NAME, 'c'), Tree(binop, [Tree(var, [Token(NAME, 'a')]), Token(ADDOP, '+'), Tree(var, [Token(NAME, 'b')])])]), Tree(assign, [Token(NAME, 'a'), Tree(var, [Token(NAME, 'b')])]), Tree(assign, [Token(NAME, 'b'), Tree(var, [Token(NAME, 'c')])]), Tree(goto, [Token(NAME, 'head'), Tree(binop, [Tree(var, [Token(NAME, 'i')]), Token(CMP, '<'), Tree(var, [Token(NAME, 'n')])])]), Tree(show, [Token(NAME, 'a')])])"
      ]
     },
     "execution_count": 71,
     "metadata": {},
     "output_type": "execute_result"
    }
   ],
   "source": [
    "parser.parse(text)"
   ]
  },
  {
   "cell_type": "code",
   "execution_count": 72,
   "metadata": {
    "scrolled": false
   },
   "outputs": [
    {
     "name": "stdout",
     "output_type": "stream",
     "text": [
      "start\n",
      "  ask\tn\n",
      "  assign\n",
      "    a\n",
      "    number\t1\n",
      "  assign\n",
      "    b\n",
      "    number\t1\n",
      "  assign\n",
      "    i\n",
      "    number\t1\n",
      "  label\thead\n",
      "  assign\n",
      "    i\n",
      "    binop\n",
      "      var\ti\n",
      "      +\n",
      "      number\t1\n",
      "  assign\n",
      "    c\n",
      "    binop\n",
      "      var\ta\n",
      "      +\n",
      "      var\tb\n",
      "  assign\n",
      "    a\n",
      "    var\tb\n",
      "  assign\n",
      "    b\n",
      "    var\tc\n",
      "  goto\n",
      "    head\n",
      "    binop\n",
      "      var\ti\n",
      "      <\n",
      "      var\tn\n",
      "  show\ta\n",
      "\n"
     ]
    }
   ],
   "source": [
    "print(parser.parse(text).pretty())"
   ]
  },
  {
   "cell_type": "markdown",
   "metadata": {},
   "source": [
    "#### Опрделяем таргет"
   ]
  },
  {
   "cell_type": "code",
   "execution_count": null,
   "metadata": {},
   "outputs": [],
   "source": []
  },
  {
   "cell_type": "code",
   "execution_count": 77,
   "metadata": {},
   "outputs": [],
   "source": [
    "@dataclass\n",
    "class PythonInst:\n",
    "    mnemonic: str\n",
    "    argument: typing.Any = 0\n",
    "    argtype: str = None\n",
    "    \n",
    "    def size(self):\n",
    "        return 2\n",
    "\n",
    "    def to_binary(self, ctx, writer):\n",
    "        operand = 0\n",
    "        if self.argtype is None:\n",
    "            operand = self.argument\n",
    "        else:\n",
    "            operand = ctx[self.argtype][self.argument]\n",
    "        opcode = dis.opmap[self.mnemonic]\n",
    "        writer.write(struct.pack('BB', opcode, operand))\n",
    "        \n",
    "@dataclass\n",
    "class LabelInst:\n",
    "    label: str\n",
    "\n",
    "    def size(self):\n",
    "        return 0\n",
    "\n",
    "    def to_binary(self, ctx, writer):\n",
    "        return None"
   ]
  },
  {
   "cell_type": "markdown",
   "metadata": {},
   "source": [
    "#### stdlib"
   ]
  },
  {
   "cell_type": "code",
   "execution_count": 84,
   "metadata": {},
   "outputs": [],
   "source": [
    "def read_ints():\n",
    "    return tuple(int(v) for v in input('>> ').split())\n",
    "\n",
    "def read_int():\n",
    "    return int(input('> '))"
   ]
  },
  {
   "cell_type": "code",
   "execution_count": 92,
   "metadata": {},
   "outputs": [
    {
     "name": "stdout",
     "output_type": "stream",
     "text": [
      "  2           0 LOAD_NAME                0 (x)\n",
      "              2 POP_JUMP_IF_FALSE       18\n",
      "\n",
      "  3           4 LOAD_NAME                1 (foo)\n",
      "              6 LOAD_NAME                0 (x)\n",
      "              8 LOAD_CONST               0 (1)\n",
      "             10 CALL_FUNCTION            2\n",
      "             12 POP_TOP\n",
      "\n",
      "  4          14 LOAD_CONST               0 (1)\n",
      "             16 STORE_NAME               0 (x)\n",
      "\n",
      "  5     >>   18 LOAD_CONST               0 (1)\n",
      "             20 STORE_NAME               0 (x)\n",
      "             22 LOAD_CONST               1 (None)\n",
      "             24 RETURN_VALUE\n"
     ]
    }
   ],
   "source": [
    "dis.dis(compile(ast.parse(\"\"\"\n",
    "if x:\n",
    "    foo(x, 1)\n",
    "    x =1\n",
    "x = 1\n",
    "\"\"\"), '<foo>', 'exec'))"
   ]
  },
  {
   "cell_type": "markdown",
   "metadata": {},
   "source": [
    "https://docs.python.org/3/library/dis.html\n",
    "* `CALL_FUNCTION`\n",
    "* `JUMP_ABSOLUTE`\n",
    "* `LOAD_CONST`\n",
    "* `LOAD_NAME`\n",
    "* `POP_JUMP_IF_TRUE`\n",
    "* `POP_TOP`\n",
    "* `RETURN_VALUE`\n",
    "* `STORE_NAME`\n",
    "* `UNPACK_SEQUENCE`\n",
    "* `BINARY_MULTIPLY`\n",
    "* `BINARY_TRUE_DIVIDE`\n",
    "* `BINARY_ADD`\n",
    "* `BINARY_SUBTRACT`\n",
    "* `COMPARE_OP`"
   ]
  },
  {
   "cell_type": "markdown",
   "metadata": {},
   "source": [
    "#### Пишем визитор"
   ]
  },
  {
   "cell_type": "code",
   "execution_count": 75,
   "metadata": {},
   "outputs": [
    {
     "data": {
      "text/plain": [
       "('<',\n",
       " '<=',\n",
       " '==',\n",
       " '!=',\n",
       " '>',\n",
       " '>=',\n",
       " 'in',\n",
       " 'not in',\n",
       " 'is',\n",
       " 'is not',\n",
       " 'exception match',\n",
       " 'BAD')"
      ]
     },
     "execution_count": 75,
     "metadata": {},
     "output_type": "execute_result"
    }
   ],
   "source": [
    "dis.cmp_op"
   ]
  },
  {
   "cell_type": "code",
   "execution_count": 97,
   "metadata": {},
   "outputs": [],
   "source": [
    "op_mapping = {\n",
    "    '*': PythonInst('BINARY_MULTIPLY', 0),\n",
    "    '+': PythonInst('BINARY_ADD', 0),\n",
    "    '-': PythonInst('BINARY_SUBTRACT', 0),\n",
    "    '<': PythonInst('COMPARE_OP', dis.cmp_op.index('<')), \n",
    "    '>': PythonInst('COMPARE_OP', dis.cmp_op.index('>')), \n",
    "}\n",
    "\n",
    "\n",
    "@v_args(inline=True)\n",
    "class VisitTree(Transformer):\n",
    "    \"\"\"\n",
    "    start: _NL* statement (_NL+ statement )* _NL*\n",
    "    \n",
    "    ?statement: \"ask\" NAME -> ask \n",
    "                | \"set\" NAME \"to\" expr -> assign\n",
    "                | \"label\" NAME -> label\n",
    "                | \"show\" NAME -> show\n",
    "                | \"goto\" NAME \"if\" expr -> goto\n",
    "\n",
    "    ?expr: sum\n",
    "           | sum CMP sum -> binop  \n",
    "    \n",
    "    ?sum: product\n",
    "        | sum ADDOP product -> binop\n",
    "\n",
    "    CMP: \"=\"|\">=\"|\"<=\"|\"/=\"|\">\"|\"<\"\n",
    "    ADDOP: \"+\"|\"-\"\n",
    "    MULOP: \"*\"|\"/\"\n",
    "    \n",
    "    ?product: atom\n",
    "        | product MULOP atom -> binop\n",
    "        \n",
    "    ?atom: NUMBER           -> number\n",
    "         | NAME             -> var\n",
    "         | \"(\" sum \")\"\n",
    "\n",
    "    \"\"\"\n",
    "    @collecting\n",
    "    def number(self, num):\n",
    "        yield PythonInst('LOAD_CONST', int(num), 'const')\n",
    "        \n",
    "    @collecting\n",
    "    def var(self, name):\n",
    "        yield PythonInst('LOAD_NAME', name, 'name')\n",
    "    \n",
    "    @collecting\n",
    "    def binop(self, lhs, op, rhs):\n",
    "        yield from lhs\n",
    "        yield from rhs\n",
    "        yield op_mapping[op]\n",
    "        \n",
    "    @collecting\n",
    "    def ask(self, name):\n",
    "        yield PythonInst('LOAD_NAME', 'read_int', 'name')\n",
    "        yield PythonInst('CALL_FUNCTION', 0)\n",
    "        yield PythonInst('STORE_NAME', name, 'name')\n",
    "        \n",
    "    @collecting\n",
    "    def show(self, *names):\n",
    "        yield PythonInst('LOAD_NAME', 'print', 'name')\n",
    "        for name in names:\n",
    "            yield PythonInst('LOAD_NAME', name, 'name')\n",
    "        yield PythonInst('CALL_FUNCTION', len(name))\n",
    "        yield PythonInst('POP_TOP')\n",
    "\n",
    "    @collecting\n",
    "    def label(self, name):\n",
    "        yield LabelInst(name)\n",
    "    \n",
    "    @collecting\n",
    "    def goto(self, label, expr=None):\n",
    "        yield from expr\n",
    "        yield PythonInst('POP_JUMP_IF_TRUE', label, 'label')\n",
    "     \n",
    "    @collecting       \n",
    "    def assign(self, name, expr):\n",
    "        yield from expr\n",
    "        yield PythonInst('STORE_NAME', name, 'name')\n",
    "\n",
    "    @collecting\n",
    "    def start(self, *statements):\n",
    "        for st in statements:\n",
    "            yield from st\n",
    "        yield PythonInst('LOAD_CONST', 0, 'const')\n",
    "        yield PythonInst('RETURN_VALUE')\n",
    "    \n",
    "parser = Lark(grammar, parser='lalr', transformer=VisitTree())"
   ]
  },
  {
   "cell_type": "code",
   "execution_count": null,
   "metadata": {},
   "outputs": [],
   "source": []
  },
  {
   "cell_type": "code",
   "execution_count": 98,
   "metadata": {},
   "outputs": [
    {
     "data": {
      "text/plain": [
       "[PythonInst(mnemonic='LOAD_NAME', argument='read_int', argtype='name'),\n",
       " PythonInst(mnemonic='CALL_FUNCTION', argument=0, argtype=None),\n",
       " PythonInst(mnemonic='STORE_NAME', argument=Token(NAME, 'n'), argtype='name'),\n",
       " PythonInst(mnemonic='LOAD_CONST', argument=1, argtype='const'),\n",
       " PythonInst(mnemonic='STORE_NAME', argument=Token(NAME, 'a'), argtype='name'),\n",
       " PythonInst(mnemonic='LOAD_CONST', argument=1, argtype='const'),\n",
       " PythonInst(mnemonic='STORE_NAME', argument=Token(NAME, 'b'), argtype='name'),\n",
       " PythonInst(mnemonic='LOAD_CONST', argument=1, argtype='const'),\n",
       " PythonInst(mnemonic='STORE_NAME', argument=Token(NAME, 'i'), argtype='name'),\n",
       " LabelInst(label=Token(NAME, 'head')),\n",
       " PythonInst(mnemonic='LOAD_NAME', argument=Token(NAME, 'i'), argtype='name'),\n",
       " PythonInst(mnemonic='LOAD_CONST', argument=1, argtype='const'),\n",
       " PythonInst(mnemonic='BINARY_ADD', argument=0, argtype=None),\n",
       " PythonInst(mnemonic='STORE_NAME', argument=Token(NAME, 'i'), argtype='name'),\n",
       " PythonInst(mnemonic='LOAD_NAME', argument=Token(NAME, 'a'), argtype='name'),\n",
       " PythonInst(mnemonic='LOAD_NAME', argument=Token(NAME, 'b'), argtype='name'),\n",
       " PythonInst(mnemonic='BINARY_ADD', argument=0, argtype=None),\n",
       " PythonInst(mnemonic='STORE_NAME', argument=Token(NAME, 'c'), argtype='name'),\n",
       " PythonInst(mnemonic='LOAD_NAME', argument=Token(NAME, 'b'), argtype='name'),\n",
       " PythonInst(mnemonic='STORE_NAME', argument=Token(NAME, 'a'), argtype='name'),\n",
       " PythonInst(mnemonic='LOAD_NAME', argument=Token(NAME, 'c'), argtype='name'),\n",
       " PythonInst(mnemonic='STORE_NAME', argument=Token(NAME, 'b'), argtype='name'),\n",
       " PythonInst(mnemonic='LOAD_NAME', argument=Token(NAME, 'i'), argtype='name'),\n",
       " PythonInst(mnemonic='LOAD_NAME', argument=Token(NAME, 'n'), argtype='name'),\n",
       " PythonInst(mnemonic='COMPARE_OP', argument=0, argtype=None),\n",
       " PythonInst(mnemonic='POP_JUMP_IF_TRUE', argument=Token(NAME, 'head'), argtype='label'),\n",
       " PythonInst(mnemonic='LOAD_NAME', argument='print', argtype='name'),\n",
       " PythonInst(mnemonic='LOAD_NAME', argument=Token(NAME, 'a'), argtype='name'),\n",
       " PythonInst(mnemonic='CALL_FUNCTION', argument=1, argtype=None),\n",
       " PythonInst(mnemonic='POP_TOP', argument=0, argtype=None),\n",
       " PythonInst(mnemonic='LOAD_CONST', argument=0, argtype='const'),\n",
       " PythonInst(mnemonic='RETURN_VALUE', argument=0, argtype=None)]"
      ]
     },
     "execution_count": 98,
     "metadata": {},
     "output_type": "execute_result"
    }
   ],
   "source": [
    "parser.parse(text)"
   ]
  },
  {
   "cell_type": "code",
   "execution_count": null,
   "metadata": {},
   "outputs": [],
   "source": []
  },
  {
   "cell_type": "code",
   "execution_count": 99,
   "metadata": {},
   "outputs": [],
   "source": [
    "def create_codeobj(instructions):\n",
    "    \n",
    "    constants = tuple(set(\n",
    "        inst.argument\n",
    "        for inst in instructions\n",
    "        if isinstance(inst, PythonInst) and inst.argtype == 'const'\n",
    "    ))\n",
    "    \n",
    "    names = tuple(set(\n",
    "        inst.argument\n",
    "        for inst in instructions\n",
    "        if isinstance(inst, PythonInst) and inst.argtype == 'name'\n",
    "    ))\n",
    "    context = {\n",
    "        'const': {\n",
    "            k: i\n",
    "            for i, k in enumerate(constants)\n",
    "        },\n",
    "        'name': {\n",
    "            k: i\n",
    "            for i, k in enumerate(names)\n",
    "        },\n",
    "        'label': {},\n",
    "    }\n",
    "    \n",
    "    off = 0\n",
    "    for inst in instructions:\n",
    "        if isinstance(inst, LabelInst):\n",
    "            context['label'][inst.label]  = off\n",
    "        off += inst.size()\n",
    "    \n",
    "    \n",
    "    for inst in instructions:\n",
    "        if isinstance(inst, PythonInst):\n",
    "            if inst.argtype == 'label':\n",
    "                assert inst.argument in context['label']\n",
    "    \n",
    "    w = BytesIO()\n",
    "\n",
    "    for inst in instructions:\n",
    "        inst.to_binary(context, w)\n",
    "    \n",
    "    return CodeType(\n",
    "        0, # argcount\n",
    "        0, # posonlyargcount\n",
    "        0, # kwonlyargcount\n",
    "        0, # nlocals\n",
    "        64, # stacksize\n",
    "        64, # flags\n",
    "        w.getvalue(), # codestring\n",
    "        constants, # constants\n",
    "        names, # names\n",
    "        (), # varnames\n",
    "        '<ok>', # filename\n",
    "        '<module>', # name\n",
    "        1, # firstlineno\n",
    "        b'',# lnotab\n",
    "    )"
   ]
  },
  {
   "cell_type": "code",
   "execution_count": 100,
   "metadata": {},
   "outputs": [],
   "source": [
    "code = create_codeobj(parser.parse(text))"
   ]
  },
  {
   "cell_type": "code",
   "execution_count": 101,
   "metadata": {},
   "outputs": [
    {
     "name": "stdout",
     "output_type": "stream",
     "text": [
      "  1           0 LOAD_NAME                1 (read_int)\n",
      "              2 CALL_FUNCTION            0\n",
      "              4 STORE_NAME               4 (n)\n",
      "              6 LOAD_CONST               1 (1)\n",
      "              8 STORE_NAME               0 (a)\n",
      "             10 LOAD_CONST               1 (1)\n",
      "             12 STORE_NAME               6 (b)\n",
      "             14 LOAD_CONST               1 (1)\n",
      "             16 STORE_NAME               5 (i)\n",
      "        >>   18 LOAD_NAME                5 (i)\n",
      "             20 LOAD_CONST               1 (1)\n",
      "             22 BINARY_ADD\n",
      "             24 STORE_NAME               5 (i)\n",
      "             26 LOAD_NAME                0 (a)\n",
      "             28 LOAD_NAME                6 (b)\n",
      "             30 BINARY_ADD\n",
      "             32 STORE_NAME               3 (c)\n",
      "             34 LOAD_NAME                6 (b)\n",
      "             36 STORE_NAME               0 (a)\n",
      "             38 LOAD_NAME                3 (c)\n",
      "             40 STORE_NAME               6 (b)\n",
      "             42 LOAD_NAME                5 (i)\n",
      "             44 LOAD_NAME                4 (n)\n",
      "             46 COMPARE_OP               0 (<)\n",
      "             48 POP_JUMP_IF_TRUE        18\n",
      "             50 LOAD_NAME                2 (print)\n",
      "             52 LOAD_NAME                0 (a)\n",
      "             54 CALL_FUNCTION            1\n",
      "             56 POP_TOP\n",
      "             58 LOAD_CONST               0 (0)\n",
      "             60 RETURN_VALUE\n"
     ]
    }
   ],
   "source": [
    "dis.dis(code)"
   ]
  },
  {
   "cell_type": "code",
   "execution_count": 107,
   "metadata": {},
   "outputs": [
    {
     "name": "stdout",
     "output_type": "stream",
     "text": [
      "1:59:18.432822\n"
     ]
    }
   ],
   "source": [
    "time_elapsed()"
   ]
  },
  {
   "cell_type": "code",
   "execution_count": 105,
   "metadata": {},
   "outputs": [
    {
     "name": "stdout",
     "output_type": "stream",
     "text": [
      "> 7\n",
      "13\n"
     ]
    }
   ],
   "source": [
    "exec(code)"
   ]
  },
  {
   "cell_type": "markdown",
   "metadata": {},
   "source": [
    "### Книги\n",
    "\n",
    "\n",
    "Compilers:\n",
    "![CompilersBook2ed](assets/CompilersBook2ed.png)\n",
    "\n",
    "* [dragonbook](https://ru.wikipedia.org/wiki/%D0%9A%D0%BE%D0%BC%D0%BF%D0%B8%D0%BB%D1%8F%D1%82%D0%BE%D1%80%D1%8B:_%D0%BF%D1%80%D0%B8%D0%BD%D1%86%D0%B8%D0%BF%D1%8B,_%D1%82%D0%B5%D1%85%D0%BD%D0%BE%D0%BB%D0%BE%D0%B3%D0%B8%D0%B8_%D0%B8_%D0%B8%D0%BD%D1%81%D1%82%D1%80%D1%83%D0%BC%D0%B5%D0%BD%D1%82%D1%8B) (aka \"Компиляторы: принципы, технологии и инструменты\")\n",
    "\n",
    "* [craftinginterpreters](https://craftinginterpreters.com/contents.html)\n",
    "\n",
    "* [Engineering: A Compiler](https://www.amazon.com/Engineering-Compiler-Keith-Cooper/dp/012088478X)\n",
    "\n",
    "\n",
    "Python internals and advanced:\n",
    "* [Inside The Python Virtual Machine](https://leanpub.com/insidethepythonvirtualmachine)\n",
    "* [Intermediate Python](https://leanpub.com/intermediatepython)"
   ]
  },
  {
   "cell_type": "code",
   "execution_count": null,
   "metadata": {},
   "outputs": [],
   "source": []
  }
 ],
 "metadata": {
  "kernelspec": {
   "display_name": "Python 3",
   "language": "python",
   "name": "python3"
  },
  "language_info": {
   "codemirror_mode": {
    "name": "ipython",
    "version": 3
   },
   "file_extension": ".py",
   "mimetype": "text/x-python",
   "name": "python",
   "nbconvert_exporter": "python",
   "pygments_lexer": "ipython3",
   "version": "3.8.5"
  }
 },
 "nbformat": 4,
 "nbformat_minor": 4
}
