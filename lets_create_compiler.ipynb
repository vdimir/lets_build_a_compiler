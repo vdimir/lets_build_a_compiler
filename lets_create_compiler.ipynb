{
 "cells": [
  {
   "cell_type": "markdown",
   "metadata": {},
   "source": [
    "#### ???\n",
    "* Что такое синтаксическое дерево\n",
    "* Почему регулярные выражения так называются\n",
    "* Чем компилятор отличается от интерперетора"
   ]
  },
  {
   "cell_type": "code",
   "execution_count": null,
   "metadata": {},
   "outputs": [],
   "source": [
    "from datetime import datetime\n",
    "start_time = datetime.now()\n",
    "def time_elapsed():\n",
    "    global start_time\n",
    "    print(datetime.now() - start_time)"
   ]
  },
  {
   "cell_type": "markdown",
   "metadata": {},
   "source": [
    "#### Что мы будем использовать?\n",
    "\n",
    "Python и его библиотеки\n",
    "* https://docs.python.org/3/library/dis.html\n",
    "* https://docs.python.org/3/library/ast.html\n",
    "* https://greentreesnakes.readthedocs.io/en/latest\n",
    "\n",
    "\n",
    "* [lark-parser](https://github.com/lark-parser/lark) - библиотека для построения парсера по спецецификации\n",
    "* [astpretty](https://github.com/asottile/astpretty) - вывод ast на экран\n",
    "\n",
    "\n",
    "* Утилиты:\n",
    "* [funcy](https://github.com/Suor/funcy)\n",
    "* [more-itertools](https://github.com/more-itertools/more-itertools)\n",
    "\n",
    "*Отступление*\n",
    "* [facesofopensource.com](https://www.facesofopensource.com/guido-van-rossum-2/)\n"
   ]
  },
  {
   "cell_type": "markdown",
   "metadata": {},
   "source": [
    "#### Нужно ли это разработчикам?\n",
    "???"
   ]
  },
  {
   "cell_type": "markdown",
   "metadata": {},
   "source": [
    "### Определения\n",
    "\n",
    "[Язык программирования](https://ru.wikipedia.org/wiki/%D0%AF%D0%B7%D1%8B%D0%BA_%D0%BF%D1%80%D0%BE%D0%B3%D1%80%D0%B0%D0%BC%D0%BC%D0%B8%D1%80%D0%BE%D0%B2%D0%B0%D0%BD%D0%B8%D1%8F) -  формальный язык, предназначенный для записи компьютерных программ с набором набор лексических, синтаксических и семантических правил.\n",
    "\n",
    "[Формальный язык](https://ru.wikipedia.org/wiki/%D0%A4%D0%BE%D1%80%D0%BC%D0%B0%D0%BB%D1%8C%D0%BD%D1%8B%D0%B9_%D1%8F%D0%B7%D1%8B%D0%BA) - множество слов (цепочек символов) над конечным алфавитом, определенных посредсвом некторых правил\n"
   ]
  },
  {
   "cell_type": "markdown",
   "metadata": {},
   "source": [
    "\n",
    "### [Иерархия классов](https://en.wikipedia.org/wiki/Chomsky_hierarchy)\n",
    "![Chomsky-hierarchy](assets/640px-Chomsky-hierarchy.svg.png)"
   ]
  },
  {
   "cell_type": "markdown",
   "metadata": {},
   "source": [
    "### Процесс компиляции\n",
    "\n",
    "![flow](assets/parser_flow.diag.svg)\n",
    "\n"
   ]
  },
  {
   "cell_type": "markdown",
   "metadata": {},
   "source": [
    "### Токенизация"
   ]
  },
  {
   "cell_type": "code",
   "execution_count": null,
   "metadata": {},
   "outputs": [],
   "source": [
    "from io import BytesIO\n",
    "import tokenize"
   ]
  },
  {
   "cell_type": "code",
   "execution_count": null,
   "metadata": {},
   "outputs": [],
   "source": [
    "tokenize.tokenize?"
   ]
  },
  {
   "cell_type": "code",
   "execution_count": null,
   "metadata": {},
   "outputs": [],
   "source": [
    "data = BytesIO(b\"\"\"\n",
    "if x > y:\n",
    "  r = x - y * 2\n",
    "else:\n",
    "  r = x + y\n",
    "\"\"\").readline\n",
    "\n",
    "for tok in tokenize.tokenize(data):\n",
    "    print(tok)"
   ]
  },
  {
   "cell_type": "markdown",
   "metadata": {},
   "source": []
  },
  {
   "cell_type": "markdown",
   "metadata": {},
   "source": [
    "#### Что такое AST?\n",
    "\n",
    "`1 + 2 * 3`\n",
    "\n",
    "```\n",
    "     +\n",
    "    / \\\n",
    "   1   *\n",
    "      / \\\n",
    "     2   3\n",
    "```\n",
    "\n",
    "```\n",
    "EXPR -> NUM | EXPR + EXPR | EXPR * EXPR\n",
    "NUM -> 0|1|2|...|9\n",
    "```\n"
   ]
  },
  {
   "cell_type": "markdown",
   "metadata": {},
   "source": [
    "#### AST vs Parse Tree\n",
    "*опционально*"
   ]
  },
  {
   "cell_type": "code",
   "execution_count": null,
   "metadata": {},
   "outputs": [],
   "source": [
    "import ast\n",
    "import astpretty"
   ]
  },
  {
   "cell_type": "markdown",
   "metadata": {},
   "source": [
    "* https://docs.python.org/3/library/ast.html\n",
    "* https://greentreesnakes.readthedocs.io/en/latest"
   ]
  },
  {
   "cell_type": "code",
   "execution_count": null,
   "metadata": {},
   "outputs": [],
   "source": [
    "ast.parse?"
   ]
  },
  {
   "cell_type": "code",
   "execution_count": null,
   "metadata": {
    "scrolled": true
   },
   "outputs": [],
   "source": [
    "node = ast.parse(\"\"\"\n",
    "if x > y:\n",
    "  r = x - y * 2\n",
    "else:\n",
    "  r = x + y\n",
    "\"\"\")\n",
    "print(node)"
   ]
  },
  {
   "cell_type": "code",
   "execution_count": null,
   "metadata": {},
   "outputs": [],
   "source": [
    "# TODO: work with `node`"
   ]
  },
  {
   "cell_type": "code",
   "execution_count": null,
   "metadata": {},
   "outputs": [],
   "source": [
    "astpretty.pprint(node)"
   ]
  },
  {
   "cell_type": "code",
   "execution_count": null,
   "metadata": {},
   "outputs": [],
   "source": []
  },
  {
   "cell_type": "code",
   "execution_count": null,
   "metadata": {},
   "outputs": [],
   "source": [
    "time_elapsed()"
   ]
  },
  {
   "cell_type": "markdown",
   "metadata": {},
   "source": [
    "#### Пробуем написать свой парсер"
   ]
  },
  {
   "cell_type": "code",
   "execution_count": null,
   "metadata": {},
   "outputs": [],
   "source": [
    "import more_itertools\n",
    "from pprint import pprint"
   ]
  },
  {
   "cell_type": "code",
   "execution_count": null,
   "metadata": {},
   "outputs": [],
   "source": [
    "print(tokens := '1 + 2 + 3 + 4'.split())\n",
    "stream = more_itertools.peekable(tokens)"
   ]
  },
  {
   "cell_type": "code",
   "execution_count": null,
   "metadata": {},
   "outputs": [],
   "source": [
    "print('peek', stream.peek())\n",
    "print('next', next(stream))\n",
    "print('peek', stream.peek())\n",
    "print('peek', stream.peek())\n",
    "print('next', next(stream))\n",
    "print('next', next(stream))"
   ]
  },
  {
   "cell_type": "code",
   "execution_count": null,
   "metadata": {},
   "outputs": [],
   "source": [
    "def mynode(typ, val):\n",
    "    assert val is not None\n",
    "    return {\n",
    "        'typ': typ,\n",
    "        'val': val,\n",
    "    }"
   ]
  },
  {
   "cell_type": "markdown",
   "metadata": {},
   "source": [
    "####  Определим грамматику\n",
    "```\n",
    "EXPR -> ...\n",
    "NUM -> ...\n",
    "```"
   ]
  },
  {
   "cell_type": "code",
   "execution_count": null,
   "metadata": {},
   "outputs": [],
   "source": [
    "def consume_int(stream):\n",
    "    if stream.peek('').isdigit():\n",
    "        return int(next(stream))\n",
    "    return None\n",
    "\n",
    "def consume_tok(tokens, stream):\n",
    "    tok = stream.peek(None)\n",
    "    if tok is not None and tok in tokens:\n",
    "        return next(stream)\n",
    "    return None\n",
    "\n",
    "def parse_expr(stream):\n",
    "    lhs = mynode('num', consume_int(stream))\n",
    "\n",
    "    op = consume_tok(['+', '-'], stream)\n",
    "    if op is None:\n",
    "        return lhs\n",
    "    rhs = parse_expr(stream)\n",
    "    assert rhs is not None\n",
    "    return mynode('op', [lhs, op, rhs])"
   ]
  },
  {
   "cell_type": "code",
   "execution_count": null,
   "metadata": {},
   "outputs": [],
   "source": [
    "node = parse_expr(more_itertools.peekable('1 + 2 + 3 + 4'.split()))\n",
    "pprint(node)"
   ]
  },
  {
   "cell_type": "code",
   "execution_count": null,
   "metadata": {},
   "outputs": [],
   "source": [
    "def evaluate(node):\n",
    "    ops = {\n",
    "        '+': lambda x, y: x + y,\n",
    "        '-': lambda x, y: x - y,\n",
    "    }\n",
    "    if node['typ'] == 'op':\n",
    "        lchild, op, rchild =  node['val']\n",
    "        return ops[op](evaluate(lchild), evaluate(rchild))\n",
    "    if node['typ'] == 'num':\n",
    "        return node['val']\n",
    "    assert 'unknown type', node\n"
   ]
  },
  {
   "cell_type": "code",
   "execution_count": null,
   "metadata": {},
   "outputs": [],
   "source": [
    "evaluate(node)"
   ]
  },
  {
   "cell_type": "code",
   "execution_count": null,
   "metadata": {},
   "outputs": [],
   "source": [
    "node = parse_expr(more_itertools.peekable('1 + 2 - 3 + 4'.split()))\n",
    "pprint(node)"
   ]
  },
  {
   "cell_type": "markdown",
   "metadata": {},
   "source": [
    "#### Что выведет `evaluate` ?\n",
    "```\n",
    "  +\n",
    " / \\\n",
    "1   -\n",
    "   / \\\n",
    "  2   +\n",
    "     / \\\n",
    "    3   4\n",
    "```"
   ]
  },
  {
   "cell_type": "code",
   "execution_count": null,
   "metadata": {},
   "outputs": [],
   "source": [
    "evaluate(node)"
   ]
  },
  {
   "cell_type": "markdown",
   "metadata": {},
   "source": [
    "#### Грамматика версия 2\n",
    "```\n",
    "EXPR -> NUM | EXPR OP NUM\n",
    "NUM -> 0..9\n",
    "```"
   ]
  },
  {
   "cell_type": "code",
   "execution_count": null,
   "metadata": {},
   "outputs": [],
   "source": [
    "def parse_expr2(stream):\n",
    "    lhs = parse_expr2(stream)\n",
    "    \n",
    "    op = consume_tok(['+', '-'], stream)\n",
    "    if op is None:\n",
    "        return lhs\n",
    "    rhs = mynode('num', consume_int(stream))\n",
    "    assert rhs is not None\n",
    "    return mynode('op', [lhs, op, rhs])"
   ]
  },
  {
   "cell_type": "markdown",
   "metadata": {},
   "source": [
    "#### DO NOT RUN !!!"
   ]
  },
  {
   "cell_type": "code",
   "execution_count": null,
   "metadata": {},
   "outputs": [],
   "source": [
    "node = parse_expr2(more_itertools.peekable('1 + 2 - 3 + 4'.split()))\n",
    "pprint(node)"
   ]
  },
  {
   "cell_type": "markdown",
   "metadata": {},
   "source": [
    "#### Грамматика версия 3 \n",
    "```\n",
    "EXPR -> NUM {[+-] NUM}\n",
    "NUM -> 0..9\n",
    "```"
   ]
  },
  {
   "cell_type": "code",
   "execution_count": null,
   "metadata": {},
   "outputs": [],
   "source": [
    "def parse_expr3(stream):\n",
    "    lhs = mynode('num', consume_int(stream))\n",
    "        \n",
    "    assert lhs is not None\n",
    "    res = lhs\n",
    "    \n",
    "    while True:\n",
    "        op = consume_tok(['+', '-'], stream)\n",
    "        if op is None:\n",
    "            break\n",
    "\n",
    "        rhs = mynode('num', consume_int(stream))\n",
    "        assert rhs is not None\n",
    "        \n",
    "        res = mynode('op', [res, op, rhs])\n",
    "    return res\n"
   ]
  },
  {
   "cell_type": "code",
   "execution_count": null,
   "metadata": {},
   "outputs": [],
   "source": [
    "node = parse_expr3(more_itertools.peekable('1 + 2 - 3 + 4'.split()))\n",
    "pprint(node)"
   ]
  },
  {
   "cell_type": "markdown",
   "metadata": {},
   "source": [
    "#### Результат\n",
    "```\n",
    "        + \n",
    "       / \\\n",
    "      -   4\n",
    "     / \\\n",
    "    +   3\n",
    "   / \\ \n",
    "  1   2 \n",
    " \n",
    "```"
   ]
  },
  {
   "cell_type": "code",
   "execution_count": null,
   "metadata": {},
   "outputs": [],
   "source": [
    "evaluate(node)"
   ]
  },
  {
   "cell_type": "code",
   "execution_count": null,
   "metadata": {},
   "outputs": [],
   "source": [
    "time_elapsed()"
   ]
  },
  {
   "cell_type": "markdown",
   "metadata": {},
   "source": [
    "### Что делать с AST?\n",
    "\n",
    "* https://docs.python.org/3/library/dis.html\n",
    "* [Understanding Python Bytecode](https://towardsdatascience.com/understanding-python-bytecode-e7edaae8734d)\n",
    "* [How to patch Python bytecode](https://rushter.com/blog/python-bytecode-patch/)"
   ]
  },
  {
   "cell_type": "code",
   "execution_count": null,
   "metadata": {},
   "outputs": [],
   "source": [
    "import dis"
   ]
  },
  {
   "cell_type": "code",
   "execution_count": null,
   "metadata": {},
   "outputs": [],
   "source": [
    "compile?"
   ]
  },
  {
   "cell_type": "code",
   "execution_count": null,
   "metadata": {},
   "outputs": [],
   "source": [
    "node = ast.parse(\"\"\"\n",
    "x = a + b\n",
    "if x > 0:\n",
    "    print(x)\n",
    "\"\"\")"
   ]
  },
  {
   "cell_type": "code",
   "execution_count": null,
   "metadata": {},
   "outputs": [],
   "source": [
    "code = compile(node, '<foo>', \"exec\")"
   ]
  },
  {
   "cell_type": "code",
   "execution_count": null,
   "metadata": {},
   "outputs": [],
   "source": [
    "code"
   ]
  },
  {
   "cell_type": "code",
   "execution_count": null,
   "metadata": {},
   "outputs": [],
   "source": [
    "def pcodeobj(code):\n",
    "    for attr in dir(code):\n",
    "        if attr.startswith('co_'):\n",
    "            print(\"\\t%s = %s\" % (attr, code.__getattribute__(attr)))\n"
   ]
  },
  {
   "cell_type": "code",
   "execution_count": null,
   "metadata": {},
   "outputs": [],
   "source": [
    "pcodeobj(code)"
   ]
  },
  {
   "cell_type": "code",
   "execution_count": null,
   "metadata": {},
   "outputs": [],
   "source": [
    "dis.dis(code)"
   ]
  },
  {
   "cell_type": "markdown",
   "metadata": {},
   "source": [
    "### Почему байткод быстрее AST-интепретации?\n",
    "\n",
    "* простой, меньше накладных расходов в интепретаторе\n",
    "* легче оптимизировать\n",
    "* дружественный к кешу\n",
    "\n",
    "### Ruby 1.8 vs 1.9\n",
    "\n",
    "http://rubychan.de/share/yarv_speedups.html"
   ]
  },
  {
   "cell_type": "markdown",
   "metadata": {},
   "source": [
    "\n",
    "*Отступление*\n",
    "\n",
    "Principle of locality\n"
   ]
  },
  {
   "cell_type": "markdown",
   "metadata": {},
   "source": [
    "### Процесс компиляции (еще раз)\n",
    "\n",
    "![flow](assets/parser_flow.diag.svg)\n",
    "\n"
   ]
  },
  {
   "cell_type": "markdown",
   "metadata": {},
   "source": [
    "### Rust Example\n",
    "https://blog.rust-lang.org/2016/04/19/MIR.html"
   ]
  },
  {
   "cell_type": "markdown",
   "metadata": {},
   "source": [
    "### Let's Code ..."
   ]
  },
  {
   "cell_type": "code",
   "execution_count": null,
   "metadata": {},
   "outputs": [],
   "source": [
    "import typing\n",
    "import dis\n",
    "import ast\n",
    "\n",
    "from types import CodeType\n",
    "\n",
    "import struct\n",
    "\n",
    "from io import BytesIO\n",
    "from dataclasses import dataclass\n",
    "from collections import defaultdict\n",
    "\n",
    "from lark import Lark, Transformer, v_args\n",
    "from funcy import collecting"
   ]
  },
  {
   "cell_type": "markdown",
   "metadata": {},
   "source": [
    "https://github.com/lark-parser/lark"
   ]
  },
  {
   "cell_type": "markdown",
   "metadata": {},
   "source": [
    "#### Что напишем?\n",
    "* https://en.wikipedia.org/wiki/Euclidean_algorithm\n",
    "* https://en.wikipedia.org/wiki/Fibonacci_number"
   ]
  },
  {
   "cell_type": "markdown",
   "metadata": {},
   "source": [
    "* Наш язык поддержит целые числа и операции `+ - * /`\n",
    "* Операторы сравнения `<, >, >=, ...`\n",
    "* Условные и безусловные переходы (aka `if goto`)\n",
    "* Ввод-вывод"
   ]
  },
  {
   "cell_type": "code",
   "execution_count": null,
   "metadata": {},
   "outputs": [],
   "source": [
    "def gdc(a, b):\n",
    "    while a != b:\n",
    "        if a > b:\n",
    "            a -= b\n",
    "        else:\n",
    "            b -= a\n",
    "    return a\n",
    "\n",
    "assert gdc(12, 8) == 4\n",
    "assert gdc(56, 42) == 14\n",
    "assert gdc(1, 10) == 1\n",
    "del gdc"
   ]
  },
  {
   "cell_type": "code",
   "execution_count": null,
   "metadata": {},
   "outputs": [],
   "source": [
    "def fib(n):\n",
    "    a = 1\n",
    "    b = 1\n",
    "    for _ in range(n):\n",
    "        c = a + b\n",
    "        a = b\n",
    "        b = c\n",
    "    return a \n",
    "\n",
    "assert fib(1) == 1\n",
    "assert fib(2) == 2\n",
    "assert fib(3) == 3\n",
    "assert fib(4) == 5\n",
    "assert fib(5) == 8\n",
    "assert fib(6) == 13\n",
    "del fib"
   ]
  },
  {
   "cell_type": "code",
   "execution_count": null,
   "metadata": {},
   "outputs": [],
   "source": []
  },
  {
   "cell_type": "code",
   "execution_count": null,
   "metadata": {},
   "outputs": [],
   "source": [
    "text = \"\"\"\n",
    "\"\"\"\n",
    "\n"
   ]
  },
  {
   "cell_type": "code",
   "execution_count": null,
   "metadata": {},
   "outputs": [],
   "source": [
    "grammar = \"\"\"\n",
    "    start: _NL* statement (_NL+ statement )* _NL*\n",
    "    \n",
    "    ?statement: ...\n",
    "\n",
    "    ?expr: sum\n",
    "           | sum CMP sum -> binop  \n",
    "    \n",
    "    ?sum: product\n",
    "        | sum ADDOP product -> binop\n",
    "\n",
    "    CMP: \"=\"|\">=\"|\"<=\"|\"/=\"|\">\"|\"<\"\n",
    "    ADDOP: \"+\"|\"-\"\n",
    "    MULOP: \"*\"|\"/\"\n",
    "    \n",
    "    ?product: atom\n",
    "        | product MULOP atom -> binop\n",
    "        \n",
    "    ?atom: NUMBER           -> number\n",
    "         | NAME             -> var\n",
    "         | \"(\" sum \")\"\n",
    "\n",
    "    %import common.CNAME -> NAME\n",
    "    %import common.NEWLINE -> _NL\n",
    "    %import common.NUMBER\n",
    "    %import common.WS_INLINE\n",
    "    %ignore WS_INLINE\n",
    "\"\"\""
   ]
  },
  {
   "cell_type": "markdown",
   "metadata": {},
   "source": [
    "\n"
   ]
  },
  {
   "cell_type": "code",
   "execution_count": null,
   "metadata": {},
   "outputs": [],
   "source": [
    "parser = Lark(grammar, parser='lalr')"
   ]
  },
  {
   "cell_type": "code",
   "execution_count": null,
   "metadata": {
    "scrolled": true
   },
   "outputs": [],
   "source": [
    "parser.parse(text)"
   ]
  },
  {
   "cell_type": "code",
   "execution_count": null,
   "metadata": {
    "scrolled": false
   },
   "outputs": [],
   "source": [
    "print(parser.parse(text).pretty())"
   ]
  },
  {
   "cell_type": "markdown",
   "metadata": {},
   "source": [
    "#### Опрделяем таргет"
   ]
  },
  {
   "cell_type": "code",
   "execution_count": null,
   "metadata": {},
   "outputs": [],
   "source": [
    "@dataclass\n",
    "class PythonInst:\n",
    "    mnemonic: str\n",
    "    argument: typing.Any = 0\n",
    "    argtype: str = None\n",
    "    \n",
    "    def size(self):\n",
    "        return ...\n",
    "\n",
    "    def to_binary(self, ctx, writer):\n",
    "        operand = 0\n",
    "        if self.argtype is None:\n",
    "            operand = self.argument\n",
    "        else:\n",
    "            operand = ctx[self.argtype][self.argument]\n",
    "        opcode = dis.opmap[self.mnemonic]\n",
    "        writer.write(struct.pack('BB', opcode, operand))\n",
    "        \n",
    "@dataclass\n",
    "class LabelInst:\n",
    "    label: str\n",
    "\n",
    "    def size(self):\n",
    "        return ...\n",
    "\n",
    "    def to_binary(self, ctx, writer):\n",
    "        ..."
   ]
  },
  {
   "cell_type": "markdown",
   "metadata": {},
   "source": [
    "#### stdlib"
   ]
  },
  {
   "cell_type": "code",
   "execution_count": null,
   "metadata": {},
   "outputs": [],
   "source": [
    "def read_ints():\n",
    "    return tuple(int(v) for v in input('>> ').split())\n",
    "\n",
    "def read_int():\n",
    "    return int(input('> '))"
   ]
  },
  {
   "cell_type": "code",
   "execution_count": null,
   "metadata": {},
   "outputs": [],
   "source": [
    "dis.dis(compile(ast.parse(\"\"\"\n",
    "x + y\n",
    "\"\"\"), '<foo>', 'exec'))"
   ]
  },
  {
   "cell_type": "markdown",
   "metadata": {},
   "source": [
    "https://docs.python.org/3/library/dis.html\n",
    "* `CALL_FUNCTION`\n",
    "* `JUMP_ABSOLUTE`\n",
    "* `LOAD_CONST`\n",
    "* `LOAD_NAME`\n",
    "* `POP_JUMP_IF_TRUE`\n",
    "* `POP_TOP`\n",
    "* `RETURN_VALUE`\n",
    "* `STORE_NAME`\n",
    "* `UNPACK_SEQUENCE`\n",
    "* `BINARY_MULTIPLY`\n",
    "* `BINARY_TRUE_DIVIDE`\n",
    "* `BINARY_ADD`\n",
    "* `BINARY_SUBTRACT`\n",
    "* `COMPARE_OP`"
   ]
  },
  {
   "cell_type": "markdown",
   "metadata": {},
   "source": [
    "#### Пишем визитор"
   ]
  },
  {
   "cell_type": "code",
   "execution_count": null,
   "metadata": {},
   "outputs": [],
   "source": [
    "op_mapping = {\n",
    "    '*': PythonInst('BINARY_MULTIPLY', 0),\n",
    "    '<': PythonInst('COMPARE_OP', dis.cmp_op.index('<')), \n",
    "    ...: ...,\n",
    "}\n",
    "\n",
    "\n",
    "@v_args(inline=True)\n",
    "class VisitTree(Transformer):\n",
    "\n",
    "    @collecting\n",
    "    def number(self, num):\n",
    "        yield PythonInst('LOAD_CONST', int(num), 'const')\n",
    "        \n",
    "    @collecting\n",
    "    def var(self, name):\n",
    "        ...\n",
    "    \n",
    "    @collecting\n",
    "    def binop(self, lhs, op, rhs):\n",
    "        ...\n",
    "        \n",
    "    @collecting\n",
    "    def ask(self, *names):\n",
    "        ...\n",
    "\n",
    "    @collecting\n",
    "    def answer(self, *names):\n",
    "        ...\n",
    "\n",
    "    @collecting\n",
    "    def label(self, name):\n",
    "        ...\n",
    "    \n",
    "    @collecting\n",
    "    def goto(self, label, expr=None):\n",
    "        ...\n",
    "     \n",
    "    @collecting       \n",
    "    def assign(self, name, expr):\n",
    "        ...\n",
    "\n",
    "    @collecting\n",
    "    def start(self, *statements):\n",
    "        ...\n",
    "    \n",
    "parser = Lark(grammar, parser='lalr', transformer=VisitTree())"
   ]
  },
  {
   "cell_type": "code",
   "execution_count": null,
   "metadata": {},
   "outputs": [],
   "source": [
    "parser.parse(text)"
   ]
  },
  {
   "cell_type": "code",
   "execution_count": null,
   "metadata": {},
   "outputs": [],
   "source": []
  },
  {
   "cell_type": "code",
   "execution_count": null,
   "metadata": {},
   "outputs": [],
   "source": [
    "def create_codeobj(instructions):\n",
    "    \n",
    "    constants = tuple(set(\n",
    "        inst.argument\n",
    "        for inst in instructions\n",
    "        if isinstance(inst, PythonInst) and inst.argtype == 'const'\n",
    "    ))\n",
    "    \n",
    "    names = tuple(set(\n",
    "        inst.argument\n",
    "        for inst in instructions\n",
    "        if isinstance(inst, PythonInst) and inst.argtype == 'name'\n",
    "    ))\n",
    "    context = {\n",
    "        'const': {\n",
    "            k: i\n",
    "            for i, k in enumerate(constants)\n",
    "        },\n",
    "        'name': {\n",
    "            k: i\n",
    "            for i, k in enumerate(names)\n",
    "        },\n",
    "        'label': {},\n",
    "    }\n",
    "    \n",
    "    off = 0\n",
    "    for inst in instructions:\n",
    "        if isinstance(inst, LabelInst):\n",
    "            context['label'][inst.label]  = off\n",
    "        off += inst.size()\n",
    "    \n",
    "    \n",
    "    for inst in instructions:\n",
    "        if isinstance(inst, PythonInst):\n",
    "            if inst.argtype == 'label':\n",
    "                assert inst.argument in context['label']\n",
    "    \n",
    "    w = BytesIO()\n",
    "\n",
    "    for inst in instructions:\n",
    "        inst.to_binary(context, w)\n",
    "    \n",
    "    return CodeType(\n",
    "        0, # argcount\n",
    "        0, # posonlyargcount\n",
    "        0, # kwonlyargcount\n",
    "        0, # nlocals\n",
    "        64, # stacksize\n",
    "        64, # flags\n",
    "        w.getvalue(), # codestring\n",
    "        constants, # constants\n",
    "        names, # names\n",
    "        (), # varnames\n",
    "        '<ok>', # filename\n",
    "        '<module>', # name\n",
    "        1, # firstlineno\n",
    "        b'',# lnotab\n",
    "    )"
   ]
  },
  {
   "cell_type": "code",
   "execution_count": null,
   "metadata": {},
   "outputs": [],
   "source": [
    "code = create_codeobj(parser.parse(text))"
   ]
  },
  {
   "cell_type": "code",
   "execution_count": null,
   "metadata": {},
   "outputs": [],
   "source": [
    "dis.dis(code)"
   ]
  },
  {
   "cell_type": "code",
   "execution_count": null,
   "metadata": {},
   "outputs": [],
   "source": [
    "exec(code)"
   ]
  },
  {
   "cell_type": "markdown",
   "metadata": {},
   "source": [
    "### Книги\n",
    "\n",
    "\n",
    "Compilers:\n",
    "![CompilersBook2ed](assets/CompilersBook2ed.png)\n",
    "\n",
    "* [dragonbook](https://ru.wikipedia.org/wiki/%D0%9A%D0%BE%D0%BC%D0%BF%D0%B8%D0%BB%D1%8F%D1%82%D0%BE%D1%80%D1%8B:_%D0%BF%D1%80%D0%B8%D0%BD%D1%86%D0%B8%D0%BF%D1%8B,_%D1%82%D0%B5%D1%85%D0%BD%D0%BE%D0%BB%D0%BE%D0%B3%D0%B8%D0%B8_%D0%B8_%D0%B8%D0%BD%D1%81%D1%82%D1%80%D1%83%D0%BC%D0%B5%D0%BD%D1%82%D1%8B) (aka \"Компиляторы: принципы, технологии и инструменты\")\n",
    "\n",
    "* [craftinginterpreters](https://craftinginterpreters.com/contents.html)\n",
    "\n",
    "* [Engineering: A Compiler](https://www.amazon.com/Engineering-Compiler-Keith-Cooper/dp/012088478X)\n",
    "\n",
    "\n",
    "Python internals and advanced:\n",
    "* [Inside The Python Virtual Machine](https://leanpub.com/insidethepythonvirtualmachine)\n",
    "* [Intermediate Python](https://leanpub.com/intermediatepython)"
   ]
  },
  {
   "cell_type": "code",
   "execution_count": null,
   "metadata": {},
   "outputs": [],
   "source": []
  }
 ],
 "metadata": {
  "kernelspec": {
   "display_name": "Python 3",
   "language": "python",
   "name": "python3"
  },
  "language_info": {
   "codemirror_mode": {
    "name": "ipython",
    "version": 3
   },
   "file_extension": ".py",
   "mimetype": "text/x-python",
   "name": "python",
   "nbconvert_exporter": "python",
   "pygments_lexer": "ipython3",
   "version": "3.8.5"
  }
 },
 "nbformat": 4,
 "nbformat_minor": 4
}
